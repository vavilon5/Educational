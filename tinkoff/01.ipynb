{
 "cells": [
  {
   "cell_type": "code",
   "execution_count": 183,
   "id": "e937d1b4",
   "metadata": {},
   "outputs": [],
   "source": [
    "import random as rd\n",
    "import pandas as pd\n",
    "import math\n",
    "import numpy as np"
   ]
  },
  {
   "cell_type": "code",
   "execution_count": 184,
   "id": "6814436c",
   "metadata": {},
   "outputs": [],
   "source": [
    "rd.seed(\"АДВИ_2023\")"
   ]
  },
  {
   "cell_type": "markdown",
   "id": "cecff34c",
   "metadata": {},
   "source": [
    "Формирование списков в DataFrame:"
   ]
  },
  {
   "cell_type": "code",
   "execution_count": 185,
   "id": "ca4204c2",
   "metadata": {},
   "outputs": [],
   "source": [
    "nlist = list(i for i in range(1, 1001))\n",
    "groups = [\"группа_1\", \"группа_2\", \"группа_3\", \"группа_4\", \"группа_5\"]\n",
    "\n",
    "rd.shuffle(nlist)\n",
    "rd_groups = rd.choices(groups, k=1000)\n",
    "rd_uniform = list(rd.randint(50, 100) for _ in range(1000))\n",
    "\n",
    "gauss_1 = list(rd.gauss(mu=0, sigma = 1) for _ in range(1000))\n",
    "gauss_2 = list(rd.gauss(mu=0, sigma = 12) for _ in range(1000))\n",
    "gauss_3 = list(rd.gauss(mu=50, sigma = 9) for _ in range(1000))"
   ]
  },
  {
   "cell_type": "code",
   "execution_count": 186,
   "id": "2aaed37c",
   "metadata": {},
   "outputs": [
    {
     "data": {
      "text/html": [
       "<div>\n",
       "<style scoped>\n",
       "    .dataframe tbody tr th:only-of-type {\n",
       "        vertical-align: middle;\n",
       "    }\n",
       "\n",
       "    .dataframe tbody tr th {\n",
       "        vertical-align: top;\n",
       "    }\n",
       "\n",
       "    .dataframe thead th {\n",
       "        text-align: right;\n",
       "    }\n",
       "</style>\n",
       "<table border=\"1\" class=\"dataframe\">\n",
       "  <thead>\n",
       "    <tr style=\"text-align: right;\">\n",
       "      <th></th>\n",
       "      <th>groups</th>\n",
       "      <th>uniform</th>\n",
       "      <th>gauss_1</th>\n",
       "      <th>gauss_2</th>\n",
       "      <th>gauss_3</th>\n",
       "    </tr>\n",
       "  </thead>\n",
       "  <tbody>\n",
       "    <tr>\n",
       "      <th>476</th>\n",
       "      <td>группа_1</td>\n",
       "      <td>95</td>\n",
       "      <td>3.010291</td>\n",
       "      <td>2.156346</td>\n",
       "      <td>57.455851</td>\n",
       "    </tr>\n",
       "    <tr>\n",
       "      <th>315</th>\n",
       "      <td>группа_5</td>\n",
       "      <td>77</td>\n",
       "      <td>0.190277</td>\n",
       "      <td>-9.934550</td>\n",
       "      <td>62.694177</td>\n",
       "    </tr>\n",
       "    <tr>\n",
       "      <th>490</th>\n",
       "      <td>группа_4</td>\n",
       "      <td>96</td>\n",
       "      <td>-0.282161</td>\n",
       "      <td>9.211071</td>\n",
       "      <td>54.688895</td>\n",
       "    </tr>\n",
       "    <tr>\n",
       "      <th>748</th>\n",
       "      <td>группа_3</td>\n",
       "      <td>56</td>\n",
       "      <td>1.127080</td>\n",
       "      <td>-12.391793</td>\n",
       "      <td>30.192353</td>\n",
       "    </tr>\n",
       "    <tr>\n",
       "      <th>471</th>\n",
       "      <td>группа_5</td>\n",
       "      <td>52</td>\n",
       "      <td>-1.238270</td>\n",
       "      <td>10.938748</td>\n",
       "      <td>52.682052</td>\n",
       "    </tr>\n",
       "    <tr>\n",
       "      <th>...</th>\n",
       "      <td>...</td>\n",
       "      <td>...</td>\n",
       "      <td>...</td>\n",
       "      <td>...</td>\n",
       "      <td>...</td>\n",
       "    </tr>\n",
       "    <tr>\n",
       "      <th>260</th>\n",
       "      <td>группа_4</td>\n",
       "      <td>57</td>\n",
       "      <td>-1.484164</td>\n",
       "      <td>-5.911598</td>\n",
       "      <td>49.330196</td>\n",
       "    </tr>\n",
       "    <tr>\n",
       "      <th>146</th>\n",
       "      <td>группа_4</td>\n",
       "      <td>78</td>\n",
       "      <td>-0.379041</td>\n",
       "      <td>-3.132954</td>\n",
       "      <td>60.329900</td>\n",
       "    </tr>\n",
       "    <tr>\n",
       "      <th>972</th>\n",
       "      <td>группа_1</td>\n",
       "      <td>52</td>\n",
       "      <td>-0.857206</td>\n",
       "      <td>0.835715</td>\n",
       "      <td>51.926114</td>\n",
       "    </tr>\n",
       "    <tr>\n",
       "      <th>161</th>\n",
       "      <td>группа_1</td>\n",
       "      <td>62</td>\n",
       "      <td>-0.195475</td>\n",
       "      <td>3.496498</td>\n",
       "      <td>66.310250</td>\n",
       "    </tr>\n",
       "    <tr>\n",
       "      <th>587</th>\n",
       "      <td>группа_5</td>\n",
       "      <td>60</td>\n",
       "      <td>0.093496</td>\n",
       "      <td>-9.164475</td>\n",
       "      <td>60.897843</td>\n",
       "    </tr>\n",
       "  </tbody>\n",
       "</table>\n",
       "<p>1000 rows × 5 columns</p>\n",
       "</div>"
      ],
      "text/plain": [
       "       groups  uniform   gauss_1    gauss_2    gauss_3\n",
       "476  группа_1       95  3.010291   2.156346  57.455851\n",
       "315  группа_5       77  0.190277  -9.934550  62.694177\n",
       "490  группа_4       96 -0.282161   9.211071  54.688895\n",
       "748  группа_3       56  1.127080 -12.391793  30.192353\n",
       "471  группа_5       52 -1.238270  10.938748  52.682052\n",
       "..        ...      ...       ...        ...        ...\n",
       "260  группа_4       57 -1.484164  -5.911598  49.330196\n",
       "146  группа_4       78 -0.379041  -3.132954  60.329900\n",
       "972  группа_1       52 -0.857206   0.835715  51.926114\n",
       "161  группа_1       62 -0.195475   3.496498  66.310250\n",
       "587  группа_5       60  0.093496  -9.164475  60.897843\n",
       "\n",
       "[1000 rows x 5 columns]"
      ]
     },
     "execution_count": 186,
     "metadata": {},
     "output_type": "execute_result"
    }
   ],
   "source": [
    "df = pd.DataFrame({'groups': rd_groups,\n",
    "                   'uniform': rd_uniform,\n",
    "                   'gauss_1': gauss_1,\n",
    "                   'gauss_2': gauss_2,\n",
    "                   'gauss_3': gauss_3},\n",
    "                    index=nlist)\n",
    "df"
   ]
  },
  {
   "cell_type": "markdown",
   "id": "1eb78ada",
   "metadata": {},
   "source": [
    "Делаем None"
   ]
  },
  {
   "cell_type": "code",
   "execution_count": 187,
   "id": "e47be3e4",
   "metadata": {},
   "outputs": [
    {
     "name": "stderr",
     "output_type": "stream",
     "text": [
      "C:\\Users\\vasil\\AppData\\Local\\Temp\\ipykernel_24220\\2319287492.py:5: SettingWithCopyWarning: \n",
      "A value is trying to be set on a copy of a slice from a DataFrame\n",
      "\n",
      "See the caveats in the documentation: https://pandas.pydata.org/pandas-docs/stable/user_guide/indexing.html#returning-a-view-versus-a-copy\n",
      "  df.gauss_2[i] = None\n",
      "C:\\Users\\vasil\\AppData\\Local\\Temp\\ipykernel_24220\\2319287492.py:3: SettingWithCopyWarning: \n",
      "A value is trying to be set on a copy of a slice from a DataFrame\n",
      "\n",
      "See the caveats in the documentation: https://pandas.pydata.org/pandas-docs/stable/user_guide/indexing.html#returning-a-view-versus-a-copy\n",
      "  df.gauss_1[i] = None\n"
     ]
    }
   ],
   "source": [
    "for i in df.index:\n",
    "    if i % 121 == 0:\n",
    "        df.gauss_1[i] = None\n",
    "    if df.gauss_2[i] % 1 > 0.95:\n",
    "        df.gauss_2[i] = None\n",
    "\n",
    "# round(5.52 - int(5.52), 2) 0.52\n"
   ]
  },
  {
   "cell_type": "markdown",
   "id": "3c64c025",
   "metadata": {},
   "source": [
    "##### проверка на успешную замену none"
   ]
  },
  {
   "cell_type": "code",
   "execution_count": 188,
   "id": "aa183348",
   "metadata": {},
   "outputs": [
    {
     "data": {
      "text/plain": [
       "groups     1000\n",
       "uniform    1000\n",
       "gauss_1     992\n",
       "gauss_2     948\n",
       "gauss_3    1000\n",
       "dtype: int64"
      ]
     },
     "execution_count": 188,
     "metadata": {},
     "output_type": "execute_result"
    }
   ],
   "source": [
    "# len(set(df.gauss_1))\n",
    "# df.gauss_1[242]\n",
    "df.count()"
   ]
  },
  {
   "cell_type": "markdown",
   "id": "a5262b9f",
   "metadata": {},
   "source": [
    "### Удаление и замена none"
   ]
  },
  {
   "cell_type": "code",
   "execution_count": 191,
   "id": "9c431e61",
   "metadata": {
    "scrolled": true
   },
   "outputs": [
    {
     "data": {
      "text/html": [
       "<div>\n",
       "<style scoped>\n",
       "    .dataframe tbody tr th:only-of-type {\n",
       "        vertical-align: middle;\n",
       "    }\n",
       "\n",
       "    .dataframe tbody tr th {\n",
       "        vertical-align: top;\n",
       "    }\n",
       "\n",
       "    .dataframe thead th {\n",
       "        text-align: right;\n",
       "    }\n",
       "</style>\n",
       "<table border=\"1\" class=\"dataframe\">\n",
       "  <thead>\n",
       "    <tr style=\"text-align: right;\">\n",
       "      <th></th>\n",
       "      <th>uniform</th>\n",
       "      <th>gauss_1</th>\n",
       "      <th>gauss_2</th>\n",
       "      <th>gauss_3</th>\n",
       "    </tr>\n",
       "  </thead>\n",
       "  <tbody>\n",
       "    <tr>\n",
       "      <th>count</th>\n",
       "      <td>992.000000</td>\n",
       "      <td>992.000000</td>\n",
       "      <td>992.000000</td>\n",
       "      <td>992.000000</td>\n",
       "    </tr>\n",
       "    <tr>\n",
       "      <th>mean</th>\n",
       "      <td>74.876008</td>\n",
       "      <td>-0.039448</td>\n",
       "      <td>-0.257729</td>\n",
       "      <td>49.444662</td>\n",
       "    </tr>\n",
       "    <tr>\n",
       "      <th>std</th>\n",
       "      <td>14.395724</td>\n",
       "      <td>1.052419</td>\n",
       "      <td>11.932412</td>\n",
       "      <td>9.021853</td>\n",
       "    </tr>\n",
       "    <tr>\n",
       "      <th>min</th>\n",
       "      <td>50.000000</td>\n",
       "      <td>-3.933254</td>\n",
       "      <td>-40.394911</td>\n",
       "      <td>19.682732</td>\n",
       "    </tr>\n",
       "    <tr>\n",
       "      <th>25%</th>\n",
       "      <td>62.000000</td>\n",
       "      <td>-0.745181</td>\n",
       "      <td>-8.027095</td>\n",
       "      <td>43.492984</td>\n",
       "    </tr>\n",
       "    <tr>\n",
       "      <th>50%</th>\n",
       "      <td>75.000000</td>\n",
       "      <td>-0.004941</td>\n",
       "      <td>-0.219773</td>\n",
       "      <td>49.654875</td>\n",
       "    </tr>\n",
       "    <tr>\n",
       "      <th>75%</th>\n",
       "      <td>88.000000</td>\n",
       "      <td>0.634956</td>\n",
       "      <td>7.139698</td>\n",
       "      <td>55.627863</td>\n",
       "    </tr>\n",
       "    <tr>\n",
       "      <th>max</th>\n",
       "      <td>100.000000</td>\n",
       "      <td>3.040902</td>\n",
       "      <td>34.218271</td>\n",
       "      <td>78.079961</td>\n",
       "    </tr>\n",
       "  </tbody>\n",
       "</table>\n",
       "</div>"
      ],
      "text/plain": [
       "          uniform     gauss_1     gauss_2     gauss_3\n",
       "count  992.000000  992.000000  992.000000  992.000000\n",
       "mean    74.876008   -0.039448   -0.257729   49.444662\n",
       "std     14.395724    1.052419   11.932412    9.021853\n",
       "min     50.000000   -3.933254  -40.394911   19.682732\n",
       "25%     62.000000   -0.745181   -8.027095   43.492984\n",
       "50%     75.000000   -0.004941   -0.219773   49.654875\n",
       "75%     88.000000    0.634956    7.139698   55.627863\n",
       "max    100.000000    3.040902   34.218271   78.079961"
      ]
     },
     "execution_count": 191,
     "metadata": {},
     "output_type": "execute_result"
    }
   ],
   "source": [
    "meany = df.gauss_2.mean()\n",
    "# meany\n",
    "df['gauss_2'] = df['gauss_2'].fillna(meany)\n",
    "df = df.drop(index= [i for i in range(121, 1000, 121)])\n",
    "df.describe()"
   ]
  },
  {
   "cell_type": "code",
   "execution_count": 192,
   "id": "99de63c4",
   "metadata": {},
   "outputs": [
    {
     "data": {
      "text/html": [
       "<div>\n",
       "<style scoped>\n",
       "    .dataframe tbody tr th:only-of-type {\n",
       "        vertical-align: middle;\n",
       "    }\n",
       "\n",
       "    .dataframe tbody tr th {\n",
       "        vertical-align: top;\n",
       "    }\n",
       "\n",
       "    .dataframe thead th {\n",
       "        text-align: right;\n",
       "    }\n",
       "</style>\n",
       "<table border=\"1\" class=\"dataframe\">\n",
       "  <thead>\n",
       "    <tr style=\"text-align: right;\">\n",
       "      <th></th>\n",
       "      <th>groups</th>\n",
       "      <th>uniform</th>\n",
       "      <th>gauss_1</th>\n",
       "      <th>gauss_2</th>\n",
       "      <th>gauss_3</th>\n",
       "    </tr>\n",
       "  </thead>\n",
       "  <tbody>\n",
       "    <tr>\n",
       "      <th>476</th>\n",
       "      <td>группа_1</td>\n",
       "      <td>95</td>\n",
       "      <td>3.010291</td>\n",
       "      <td>2.156346</td>\n",
       "      <td>57.455851</td>\n",
       "    </tr>\n",
       "    <tr>\n",
       "      <th>315</th>\n",
       "      <td>группа_5</td>\n",
       "      <td>77</td>\n",
       "      <td>0.190277</td>\n",
       "      <td>-9.934550</td>\n",
       "      <td>62.694177</td>\n",
       "    </tr>\n",
       "    <tr>\n",
       "      <th>490</th>\n",
       "      <td>группа_4</td>\n",
       "      <td>96</td>\n",
       "      <td>-0.282161</td>\n",
       "      <td>9.211071</td>\n",
       "      <td>54.688895</td>\n",
       "    </tr>\n",
       "    <tr>\n",
       "      <th>748</th>\n",
       "      <td>группа_3</td>\n",
       "      <td>56</td>\n",
       "      <td>1.127080</td>\n",
       "      <td>-12.391793</td>\n",
       "      <td>30.192353</td>\n",
       "    </tr>\n",
       "    <tr>\n",
       "      <th>471</th>\n",
       "      <td>группа_5</td>\n",
       "      <td>52</td>\n",
       "      <td>-1.238270</td>\n",
       "      <td>10.938748</td>\n",
       "      <td>52.682052</td>\n",
       "    </tr>\n",
       "    <tr>\n",
       "      <th>...</th>\n",
       "      <td>...</td>\n",
       "      <td>...</td>\n",
       "      <td>...</td>\n",
       "      <td>...</td>\n",
       "      <td>...</td>\n",
       "    </tr>\n",
       "    <tr>\n",
       "      <th>260</th>\n",
       "      <td>группа_4</td>\n",
       "      <td>57</td>\n",
       "      <td>-1.484164</td>\n",
       "      <td>-5.911598</td>\n",
       "      <td>49.330196</td>\n",
       "    </tr>\n",
       "    <tr>\n",
       "      <th>146</th>\n",
       "      <td>группа_4</td>\n",
       "      <td>78</td>\n",
       "      <td>-0.379041</td>\n",
       "      <td>-3.132954</td>\n",
       "      <td>60.329900</td>\n",
       "    </tr>\n",
       "    <tr>\n",
       "      <th>972</th>\n",
       "      <td>группа_1</td>\n",
       "      <td>52</td>\n",
       "      <td>-0.857206</td>\n",
       "      <td>0.835715</td>\n",
       "      <td>51.926114</td>\n",
       "    </tr>\n",
       "    <tr>\n",
       "      <th>161</th>\n",
       "      <td>группа_1</td>\n",
       "      <td>62</td>\n",
       "      <td>-0.195475</td>\n",
       "      <td>3.496498</td>\n",
       "      <td>66.310250</td>\n",
       "    </tr>\n",
       "    <tr>\n",
       "      <th>587</th>\n",
       "      <td>группа_5</td>\n",
       "      <td>60</td>\n",
       "      <td>0.093496</td>\n",
       "      <td>-9.164475</td>\n",
       "      <td>60.897843</td>\n",
       "    </tr>\n",
       "  </tbody>\n",
       "</table>\n",
       "<p>992 rows × 5 columns</p>\n",
       "</div>"
      ],
      "text/plain": [
       "       groups  uniform   gauss_1    gauss_2    gauss_3\n",
       "476  группа_1       95  3.010291   2.156346  57.455851\n",
       "315  группа_5       77  0.190277  -9.934550  62.694177\n",
       "490  группа_4       96 -0.282161   9.211071  54.688895\n",
       "748  группа_3       56  1.127080 -12.391793  30.192353\n",
       "471  группа_5       52 -1.238270  10.938748  52.682052\n",
       "..        ...      ...       ...        ...        ...\n",
       "260  группа_4       57 -1.484164  -5.911598  49.330196\n",
       "146  группа_4       78 -0.379041  -3.132954  60.329900\n",
       "972  группа_1       52 -0.857206   0.835715  51.926114\n",
       "161  группа_1       62 -0.195475   3.496498  66.310250\n",
       "587  группа_5       60  0.093496  -9.164475  60.897843\n",
       "\n",
       "[992 rows x 5 columns]"
      ]
     },
     "execution_count": 192,
     "metadata": {},
     "output_type": "execute_result"
    }
   ],
   "source": [
    "df"
   ]
  },
  {
   "cell_type": "markdown",
   "id": "572f93c6",
   "metadata": {},
   "source": [
    "Всё норм, пж не трогай датафрэйм"
   ]
  },
  {
   "cell_type": "code",
   "execution_count": 193,
   "id": "b1c1a56c",
   "metadata": {},
   "outputs": [
    {
     "data": {
      "text/plain": [
       "-0.2577"
      ]
     },
     "execution_count": 193,
     "metadata": {},
     "output_type": "execute_result"
    }
   ],
   "source": [
    "round(df['gauss_2'].mean(), 4)"
   ]
  },
  {
   "cell_type": "code",
   "execution_count": 194,
   "id": "7ff4d5bf",
   "metadata": {},
   "outputs": [
    {
     "data": {
      "text/plain": [
       "11.9324"
      ]
     },
     "execution_count": 194,
     "metadata": {},
     "output_type": "execute_result"
    }
   ],
   "source": [
    "# df.gauss_2.std()\n",
    "round(df.gauss_2.std(), 4)"
   ]
  },
  {
   "cell_type": "code",
   "execution_count": 195,
   "id": "5f64b2b4",
   "metadata": {},
   "outputs": [
    {
     "data": {
      "text/plain": [
       "count    992.000000\n",
       "mean      -0.257729\n",
       "std       11.932412\n",
       "min      -40.394911\n",
       "25%       -8.027095\n",
       "50%       -0.219773\n",
       "75%        7.139698\n",
       "max       34.218271\n",
       "Name: gauss_2, dtype: float64"
      ]
     },
     "execution_count": 195,
     "metadata": {},
     "output_type": "execute_result"
    }
   ],
   "source": [
    "df['gauss_2'].describe()"
   ]
  },
  {
   "cell_type": "code",
   "execution_count": 197,
   "id": "40ecb40c",
   "metadata": {
    "scrolled": true
   },
   "outputs": [
    {
     "data": {
      "text/html": [
       "<div>\n",
       "<style scoped>\n",
       "    .dataframe tbody tr th:only-of-type {\n",
       "        vertical-align: middle;\n",
       "    }\n",
       "\n",
       "    .dataframe tbody tr th {\n",
       "        vertical-align: top;\n",
       "    }\n",
       "\n",
       "    .dataframe thead th {\n",
       "        text-align: right;\n",
       "    }\n",
       "</style>\n",
       "<table border=\"1\" class=\"dataframe\">\n",
       "  <thead>\n",
       "    <tr style=\"text-align: right;\">\n",
       "      <th></th>\n",
       "      <th>groups</th>\n",
       "    </tr>\n",
       "    <tr>\n",
       "      <th>groups</th>\n",
       "      <th></th>\n",
       "    </tr>\n",
       "  </thead>\n",
       "  <tbody>\n",
       "    <tr>\n",
       "      <th>группа_1</th>\n",
       "      <td>215</td>\n",
       "    </tr>\n",
       "    <tr>\n",
       "      <th>группа_2</th>\n",
       "      <td>194</td>\n",
       "    </tr>\n",
       "    <tr>\n",
       "      <th>группа_3</th>\n",
       "      <td>184</td>\n",
       "    </tr>\n",
       "    <tr>\n",
       "      <th>группа_4</th>\n",
       "      <td>222</td>\n",
       "    </tr>\n",
       "    <tr>\n",
       "      <th>группа_5</th>\n",
       "      <td>177</td>\n",
       "    </tr>\n",
       "  </tbody>\n",
       "</table>\n",
       "</div>"
      ],
      "text/plain": [
       "          groups\n",
       "groups          \n",
       "группа_1     215\n",
       "группа_2     194\n",
       "группа_3     184\n",
       "группа_4     222\n",
       "группа_5     177"
      ]
     },
     "execution_count": 197,
     "metadata": {},
     "output_type": "execute_result"
    }
   ],
   "source": [
    "df.groupby('groups').aggregate({'groups': 'count'})"
   ]
  },
  {
   "cell_type": "code",
   "execution_count": 198,
   "id": "4184eaa5",
   "metadata": {},
   "outputs": [
    {
     "data": {
      "text/html": [
       "<div>\n",
       "<style scoped>\n",
       "    .dataframe tbody tr th:only-of-type {\n",
       "        vertical-align: middle;\n",
       "    }\n",
       "\n",
       "    .dataframe tbody tr th {\n",
       "        vertical-align: top;\n",
       "    }\n",
       "\n",
       "    .dataframe thead th {\n",
       "        text-align: right;\n",
       "    }\n",
       "</style>\n",
       "<table border=\"1\" class=\"dataframe\">\n",
       "  <thead>\n",
       "    <tr style=\"text-align: right;\">\n",
       "      <th></th>\n",
       "      <th>groups</th>\n",
       "      <th>uniform</th>\n",
       "      <th>gauss_1</th>\n",
       "      <th>gauss_2</th>\n",
       "      <th>gauss_3</th>\n",
       "    </tr>\n",
       "  </thead>\n",
       "  <tbody>\n",
       "    <tr>\n",
       "      <th>6</th>\n",
       "      <td>группа_5</td>\n",
       "      <td>64</td>\n",
       "      <td>0.121862</td>\n",
       "      <td>-15.706344</td>\n",
       "      <td>37.264697</td>\n",
       "    </tr>\n",
       "    <tr>\n",
       "      <th>7</th>\n",
       "      <td>группа_5</td>\n",
       "      <td>79</td>\n",
       "      <td>0.789998</td>\n",
       "      <td>-1.125028</td>\n",
       "      <td>56.556745</td>\n",
       "    </tr>\n",
       "    <tr>\n",
       "      <th>18</th>\n",
       "      <td>группа_5</td>\n",
       "      <td>80</td>\n",
       "      <td>0.390384</td>\n",
       "      <td>-3.111324</td>\n",
       "      <td>57.699977</td>\n",
       "    </tr>\n",
       "    <tr>\n",
       "      <th>21</th>\n",
       "      <td>группа_5</td>\n",
       "      <td>95</td>\n",
       "      <td>0.434685</td>\n",
       "      <td>6.883961</td>\n",
       "      <td>40.440062</td>\n",
       "    </tr>\n",
       "    <tr>\n",
       "      <th>22</th>\n",
       "      <td>группа_5</td>\n",
       "      <td>70</td>\n",
       "      <td>2.189199</td>\n",
       "      <td>-23.722245</td>\n",
       "      <td>47.054641</td>\n",
       "    </tr>\n",
       "    <tr>\n",
       "      <th>...</th>\n",
       "      <td>...</td>\n",
       "      <td>...</td>\n",
       "      <td>...</td>\n",
       "      <td>...</td>\n",
       "      <td>...</td>\n",
       "    </tr>\n",
       "    <tr>\n",
       "      <th>971</th>\n",
       "      <td>группа_5</td>\n",
       "      <td>80</td>\n",
       "      <td>-0.745116</td>\n",
       "      <td>0.449869</td>\n",
       "      <td>47.499498</td>\n",
       "    </tr>\n",
       "    <tr>\n",
       "      <th>978</th>\n",
       "      <td>группа_5</td>\n",
       "      <td>50</td>\n",
       "      <td>0.712819</td>\n",
       "      <td>3.428607</td>\n",
       "      <td>44.329374</td>\n",
       "    </tr>\n",
       "    <tr>\n",
       "      <th>989</th>\n",
       "      <td>группа_5</td>\n",
       "      <td>60</td>\n",
       "      <td>0.148515</td>\n",
       "      <td>2.928564</td>\n",
       "      <td>38.729513</td>\n",
       "    </tr>\n",
       "    <tr>\n",
       "      <th>997</th>\n",
       "      <td>группа_5</td>\n",
       "      <td>60</td>\n",
       "      <td>0.765711</td>\n",
       "      <td>-16.933376</td>\n",
       "      <td>33.617591</td>\n",
       "    </tr>\n",
       "    <tr>\n",
       "      <th>1000</th>\n",
       "      <td>группа_5</td>\n",
       "      <td>55</td>\n",
       "      <td>0.007151</td>\n",
       "      <td>5.734309</td>\n",
       "      <td>59.909507</td>\n",
       "    </tr>\n",
       "  </tbody>\n",
       "</table>\n",
       "<p>177 rows × 5 columns</p>\n",
       "</div>"
      ],
      "text/plain": [
       "        groups  uniform   gauss_1    gauss_2    gauss_3\n",
       "6     группа_5       64  0.121862 -15.706344  37.264697\n",
       "7     группа_5       79  0.789998  -1.125028  56.556745\n",
       "18    группа_5       80  0.390384  -3.111324  57.699977\n",
       "21    группа_5       95  0.434685   6.883961  40.440062\n",
       "22    группа_5       70  2.189199 -23.722245  47.054641\n",
       "...        ...      ...       ...        ...        ...\n",
       "971   группа_5       80 -0.745116   0.449869  47.499498\n",
       "978   группа_5       50  0.712819   3.428607  44.329374\n",
       "989   группа_5       60  0.148515   2.928564  38.729513\n",
       "997   группа_5       60  0.765711 -16.933376  33.617591\n",
       "1000  группа_5       55  0.007151   5.734309  59.909507\n",
       "\n",
       "[177 rows x 5 columns]"
      ]
     },
     "execution_count": 198,
     "metadata": {},
     "output_type": "execute_result"
    }
   ],
   "source": [
    "# df.query('groups == \"группа_5\"').sort_index()\n",
    "df[df['groups'] == \"группа_5\"].sort_index()"
   ]
  },
  {
   "cell_type": "code",
   "execution_count": 199,
   "id": "da03a43d",
   "metadata": {},
   "outputs": [
    {
     "name": "stdout",
     "output_type": "stream",
     "text": [
      "uniform    118\n",
      "dtype: int64 94.0\n"
     ]
    }
   ],
   "source": [
    "# count_by_uniform = df.query('uniform >= 95') \\\n",
    "#                      .groupby('uniform') \\\n",
    "#                      .aggregate({'uniform':'count'})\n",
    "# print(count_by_uniform,\n",
    "# count_by_uniform.aggregate({'uniform':'sum'}))\n",
    "\n",
    "# value_percentil = min(df.uniform) + (max(df.uniform) - min(df.uniform))*0.9\n",
    "# print(df.query('uniform >= @value_percentil').aggregate({'uniform':'count'}),\n",
    "#      value_percentil)\n",
    "\n",
    "\n",
    "p = np.percentile(df['uniform'], 90)\n",
    "# p\n",
    "print(df.query('uniform >= @p').aggregate({'uniform':'count'}), p)"
   ]
  },
  {
   "cell_type": "code",
   "execution_count": 200,
   "id": "d7d1211d",
   "metadata": {
    "scrolled": true
   },
   "outputs": [
    {
     "data": {
      "text/html": [
       "<div>\n",
       "<style scoped>\n",
       "    .dataframe tbody tr th:only-of-type {\n",
       "        vertical-align: middle;\n",
       "    }\n",
       "\n",
       "    .dataframe tbody tr th {\n",
       "        vertical-align: top;\n",
       "    }\n",
       "\n",
       "    .dataframe thead th {\n",
       "        text-align: right;\n",
       "    }\n",
       "</style>\n",
       "<table border=\"1\" class=\"dataframe\">\n",
       "  <thead>\n",
       "    <tr style=\"text-align: right;\">\n",
       "      <th></th>\n",
       "      <th>gauss_3</th>\n",
       "    </tr>\n",
       "    <tr>\n",
       "      <th>groups</th>\n",
       "      <th></th>\n",
       "    </tr>\n",
       "  </thead>\n",
       "  <tbody>\n",
       "    <tr>\n",
       "      <th>группа_1</th>\n",
       "      <td>49.8767</td>\n",
       "    </tr>\n",
       "    <tr>\n",
       "      <th>группа_2</th>\n",
       "      <td>49.9905</td>\n",
       "    </tr>\n",
       "    <tr>\n",
       "      <th>группа_3</th>\n",
       "      <td>49.4593</td>\n",
       "    </tr>\n",
       "    <tr>\n",
       "      <th>группа_4</th>\n",
       "      <td>49.0695</td>\n",
       "    </tr>\n",
       "    <tr>\n",
       "      <th>группа_5</th>\n",
       "      <td>49.9369</td>\n",
       "    </tr>\n",
       "  </tbody>\n",
       "</table>\n",
       "</div>"
      ],
      "text/plain": [
       "          gauss_3\n",
       "groups           \n",
       "группа_1  49.8767\n",
       "группа_2  49.9905\n",
       "группа_3  49.4593\n",
       "группа_4  49.0695\n",
       "группа_5  49.9369"
      ]
     },
     "execution_count": 200,
     "metadata": {},
     "output_type": "execute_result"
    }
   ],
   "source": [
    "round(df.groupby('groups').aggregate({'gauss_3':'median'}), 4)"
   ]
  },
  {
   "cell_type": "code",
   "execution_count": 202,
   "id": "aa2675c7",
   "metadata": {},
   "outputs": [
    {
     "data": {
      "text/plain": [
       "49.990528569377545"
      ]
     },
     "execution_count": 202,
     "metadata": {},
     "output_type": "execute_result"
    }
   ],
   "source": [
    "df[df['groups'] == \"группа_2\"]['gauss_3'].median()"
   ]
  },
  {
   "cell_type": "code",
   "execution_count": 211,
   "id": "48afb0b9",
   "metadata": {},
   "outputs": [
    {
     "data": {
      "text/plain": [
       "gauss_2   -36.18752\n",
       "dtype: float64"
      ]
     },
     "execution_count": 211,
     "metadata": {},
     "output_type": "execute_result"
    }
   ],
   "source": [
    "# df.groupby('groups').aggregate({'uniform': 'min'})\n",
    "# df.groupby('groups').aggregate({'gauss_1': 'min'})#.aggregate({'gauss_1': 'max'}) \n",
    "#group_3 -2.606773\n",
    "# df.query('groups == \"группа_4\"').groupby('groups').aggregate({'gauss_2': min})\n",
    "# df.groupby('groups').aggregate({'gauss_2': min}).aggregate({'gauss_2': max})\n",
    "df.query('groups == \"группа_3\"').aggregate({'gauss_2': min})"
   ]
  },
  {
   "cell_type": "code",
   "execution_count": 207,
   "id": "e103821d",
   "metadata": {},
   "outputs": [
    {
     "data": {
      "text/plain": [
       "array([0.10641825, 0.30758193])"
      ]
     },
     "execution_count": 207,
     "metadata": {},
     "output_type": "execute_result"
    }
   ],
   "source": [
    "gauss = (df.gauss_1 + df.gauss_2) / df.gauss_3\n",
    "# df\n",
    "percentil = min(gauss) + (max(gauss) - min(gauss))*0.7\n",
    "np.percentile(gauss, [70,90])\n",
    "# percentil\n",
    "# df['gauss'].describe(percentiles=[0.7, 0.9])\n",
    "# df['gauss'].count()\n"
   ]
  },
  {
   "cell_type": "code",
   "execution_count": 209,
   "id": "59afad37",
   "metadata": {},
   "outputs": [
    {
     "data": {
      "text/plain": [
       "count    992.000000\n",
       "mean      -0.006245\n",
       "std        0.258016\n",
       "min       -1.029372\n",
       "50%       -0.004883\n",
       "70%        0.106418\n",
       "90%        0.307582\n",
       "max        0.855293\n",
       "dtype: float64"
      ]
     },
     "execution_count": 209,
     "metadata": {},
     "output_type": "execute_result"
    }
   ],
   "source": [
    "gauss.describe(percentiles=[0.7, 0.9])"
   ]
  },
  {
   "cell_type": "code",
   "execution_count": 205,
   "id": "a467629d",
   "metadata": {},
   "outputs": [
    {
     "data": {
      "text/plain": [
       "992"
      ]
     },
     "execution_count": 205,
     "metadata": {},
     "output_type": "execute_result"
    }
   ],
   "source": [
    "gauss.isnull().count()"
   ]
  },
  {
   "cell_type": "code",
   "execution_count": null,
   "id": "74626f32",
   "metadata": {},
   "outputs": [],
   "source": []
  },
  {
   "cell_type": "code",
   "execution_count": null,
   "id": "10e28bc2",
   "metadata": {},
   "outputs": [],
   "source": []
  },
  {
   "cell_type": "code",
   "execution_count": null,
   "id": "697c97f8",
   "metadata": {},
   "outputs": [],
   "source": []
  },
  {
   "cell_type": "code",
   "execution_count": null,
   "id": "6e57b47f",
   "metadata": {},
   "outputs": [],
   "source": []
  },
  {
   "cell_type": "code",
   "execution_count": null,
   "id": "3d3b0d4e",
   "metadata": {},
   "outputs": [],
   "source": []
  },
  {
   "cell_type": "code",
   "execution_count": null,
   "id": "d78967f5",
   "metadata": {},
   "outputs": [],
   "source": []
  },
  {
   "cell_type": "code",
   "execution_count": null,
   "id": "5f40ab90",
   "metadata": {},
   "outputs": [],
   "source": []
  },
  {
   "cell_type": "code",
   "execution_count": null,
   "id": "56d3a163",
   "metadata": {},
   "outputs": [],
   "source": []
  },
  {
   "cell_type": "code",
   "execution_count": null,
   "id": "0565a400",
   "metadata": {},
   "outputs": [],
   "source": []
  },
  {
   "cell_type": "code",
   "execution_count": null,
   "id": "2e5cee8e",
   "metadata": {},
   "outputs": [],
   "source": []
  },
  {
   "cell_type": "code",
   "execution_count": null,
   "id": "fe6a8e6e",
   "metadata": {},
   "outputs": [],
   "source": []
  },
  {
   "cell_type": "code",
   "execution_count": null,
   "id": "2abd9b02",
   "metadata": {},
   "outputs": [],
   "source": []
  }
 ],
 "metadata": {
  "kernelspec": {
   "display_name": "Python 3 (ipykernel)",
   "language": "python",
   "name": "python3"
  },
  "language_info": {
   "codemirror_mode": {
    "name": "ipython",
    "version": 3
   },
   "file_extension": ".py",
   "mimetype": "text/x-python",
   "name": "python",
   "nbconvert_exporter": "python",
   "pygments_lexer": "ipython3",
   "version": "3.10.6"
  }
 },
 "nbformat": 4,
 "nbformat_minor": 5
}
