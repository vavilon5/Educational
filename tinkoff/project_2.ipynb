{
 "cells": [
  {
   "cell_type": "markdown",
   "id": "e7672025",
   "metadata": {},
   "source": [
    "## Задание №1"
   ]
  },
  {
   "cell_type": "markdown",
   "id": "bdf7df76",
   "metadata": {},
   "source": [
    "### Описание данных\n",
    "\n",
    "Процесс продажи устроен следующим образом:\n",
    "<ul>\n",
    "<li>создаётся задание на звонок человеку;</li>\n",
    "<li>оператор берёт задание и пытается дозвониться до человека; если не дозванивается, мы несём некоторые затраты на время оператора и поддержку инфраструктуры;</li>\n",
    "<li>если дозванивается, пытается продать наш продукт;</li>\n",
    "<li>если продал, мы имеем некоторый заработок (PV) и повышенные расходы (в том числе на вознаграждение оператора).</li>"
   ]
  },
  {
   "cell_type": "markdown",
   "id": "cc14580b",
   "metadata": {},
   "source": [
    "### Описание колонок в исторических данных.\n",
    "\n",
    "<ul>\n",
    "<li>ID - номер задания на звонок\n",
    "<li>Флаг дозвона - 1 если в рамках задания мы дозвонились человеку, иначе 0\n",
    "<li>Флаг продажи - 1 если в рамках задания мы продали наш продукт человеку, иначе 0\n",
    "<li>Расходы - сумма затрат на задание\n",
    "<li>PV - 0 если мы не продали наш продукт, иначе = PV проданного продукта\n",
    "<li>NPV = PV - Расходы"
   ]
  },
  {
   "cell_type": "markdown",
   "id": "ea99e97d",
   "metadata": {},
   "source": [
    "#### Контекст\n",
    "Мы много платим оператору из-за того,\n",
    "что он сам по каждому заданию\n",
    "звонит клиенту и ждёт ответа клиента.\n",
    "Мы хотим попробовать снизить затраты на операторов,\n",
    "внедрив систему,\n",
    "которая будет сама звонить человеку\n",
    "и в случае успеха перенаправлять задание оператору.\n",
    "        \n",
    "#### Тест\n",
    "Мы проводим тест,\n",
    "в рамках которого мы разбиваем весь поток\n",
    "на две части равновероятно,\n",
    "где одной части (контролю) мы продаём \n",
    "без автоматической системы дозвона,\n",
    "а второй части (тесту) - с ней.\n",
    "Целью этого теста\n",
    "является снижение расходов на задание.\n",
    "\n",
    "#### Статистические вводные\n",
    "Уровень значимости 5%.\n",
    "Мы хотели бы различать 5%-ное \n",
    "изменение целевой метрики\n",
    "с вероятностью 90%."
   ]
  },
  {
   "cell_type": "code",
   "execution_count": 1,
   "id": "db868c14",
   "metadata": {},
   "outputs": [],
   "source": [
    "import pandas as pd\n",
    "import numpy as np\n",
    "import scipy.stats as stats\n",
    "\n",
    "from statsmodels.stats.proportion import proportions_ztest"
   ]
  },
  {
   "cell_type": "code",
   "execution_count": 2,
   "id": "5e8858a6",
   "metadata": {},
   "outputs": [
    {
     "data": {
      "text/html": [
       "<div>\n",
       "<style scoped>\n",
       "    .dataframe tbody tr th:only-of-type {\n",
       "        vertical-align: middle;\n",
       "    }\n",
       "\n",
       "    .dataframe tbody tr th {\n",
       "        vertical-align: top;\n",
       "    }\n",
       "\n",
       "    .dataframe thead th {\n",
       "        text-align: right;\n",
       "    }\n",
       "</style>\n",
       "<table border=\"1\" class=\"dataframe\">\n",
       "  <thead>\n",
       "    <tr style=\"text-align: right;\">\n",
       "      <th></th>\n",
       "      <th>Флаг дозвона</th>\n",
       "      <th>Флаг продажи</th>\n",
       "      <th>Расходы</th>\n",
       "      <th>PV</th>\n",
       "      <th>NPV</th>\n",
       "    </tr>\n",
       "    <tr>\n",
       "      <th>ID</th>\n",
       "      <th></th>\n",
       "      <th></th>\n",
       "      <th></th>\n",
       "      <th></th>\n",
       "      <th></th>\n",
       "    </tr>\n",
       "  </thead>\n",
       "  <tbody>\n",
       "    <tr>\n",
       "      <th>0</th>\n",
       "      <td>1</td>\n",
       "      <td>0</td>\n",
       "      <td>90</td>\n",
       "      <td>0</td>\n",
       "      <td>-90</td>\n",
       "    </tr>\n",
       "    <tr>\n",
       "      <th>1</th>\n",
       "      <td>0</td>\n",
       "      <td>0</td>\n",
       "      <td>5</td>\n",
       "      <td>0</td>\n",
       "      <td>-5</td>\n",
       "    </tr>\n",
       "    <tr>\n",
       "      <th>2</th>\n",
       "      <td>0</td>\n",
       "      <td>0</td>\n",
       "      <td>68</td>\n",
       "      <td>0</td>\n",
       "      <td>-68</td>\n",
       "    </tr>\n",
       "    <tr>\n",
       "      <th>3</th>\n",
       "      <td>1</td>\n",
       "      <td>0</td>\n",
       "      <td>22</td>\n",
       "      <td>0</td>\n",
       "      <td>-22</td>\n",
       "    </tr>\n",
       "    <tr>\n",
       "      <th>4</th>\n",
       "      <td>1</td>\n",
       "      <td>0</td>\n",
       "      <td>22</td>\n",
       "      <td>0</td>\n",
       "      <td>-22</td>\n",
       "    </tr>\n",
       "    <tr>\n",
       "      <th>...</th>\n",
       "      <td>...</td>\n",
       "      <td>...</td>\n",
       "      <td>...</td>\n",
       "      <td>...</td>\n",
       "      <td>...</td>\n",
       "    </tr>\n",
       "    <tr>\n",
       "      <th>72156</th>\n",
       "      <td>1</td>\n",
       "      <td>1</td>\n",
       "      <td>577</td>\n",
       "      <td>1346</td>\n",
       "      <td>769</td>\n",
       "    </tr>\n",
       "    <tr>\n",
       "      <th>72157</th>\n",
       "      <td>0</td>\n",
       "      <td>0</td>\n",
       "      <td>8</td>\n",
       "      <td>0</td>\n",
       "      <td>-8</td>\n",
       "    </tr>\n",
       "    <tr>\n",
       "      <th>72158</th>\n",
       "      <td>0</td>\n",
       "      <td>0</td>\n",
       "      <td>23</td>\n",
       "      <td>0</td>\n",
       "      <td>-23</td>\n",
       "    </tr>\n",
       "    <tr>\n",
       "      <th>72159</th>\n",
       "      <td>0</td>\n",
       "      <td>0</td>\n",
       "      <td>4</td>\n",
       "      <td>0</td>\n",
       "      <td>-4</td>\n",
       "    </tr>\n",
       "    <tr>\n",
       "      <th>72160</th>\n",
       "      <td>1</td>\n",
       "      <td>1</td>\n",
       "      <td>132</td>\n",
       "      <td>1385</td>\n",
       "      <td>1253</td>\n",
       "    </tr>\n",
       "  </tbody>\n",
       "</table>\n",
       "<p>72161 rows × 5 columns</p>\n",
       "</div>"
      ],
      "text/plain": [
       "       Флаг дозвона  Флаг продажи  Расходы    PV   NPV\n",
       "ID                                                    \n",
       "0                 1             0       90     0   -90\n",
       "1                 0             0        5     0    -5\n",
       "2                 0             0       68     0   -68\n",
       "3                 1             0       22     0   -22\n",
       "4                 1             0       22     0   -22\n",
       "...             ...           ...      ...   ...   ...\n",
       "72156             1             1      577  1346   769\n",
       "72157             0             0        8     0    -8\n",
       "72158             0             0       23     0   -23\n",
       "72159             0             0        4     0    -4\n",
       "72160             1             1      132  1385  1253\n",
       "\n",
       "[72161 rows x 5 columns]"
      ]
     },
     "execution_count": 2,
     "metadata": {},
     "output_type": "execute_result"
    }
   ],
   "source": [
    "df = pd.read_csv('hist_telesales.csv').set_index('ID')\n",
    "df"
   ]
  },
  {
   "cell_type": "code",
   "execution_count": 3,
   "id": "08bc081e",
   "metadata": {},
   "outputs": [
    {
     "data": {
      "text/plain": [
       "14.07299025789554"
      ]
     },
     "execution_count": 3,
     "metadata": {},
     "output_type": "execute_result"
    }
   ],
   "source": [
    "df.NPV.mean() * 0.05"
   ]
  },
  {
   "cell_type": "code",
   "execution_count": 4,
   "id": "8c2f1a00",
   "metadata": {},
   "outputs": [
    {
     "data": {
      "text/plain": [
       "(459223.3634465274, 459223.36344652745)"
      ]
     },
     "execution_count": 4,
     "metadata": {},
     "output_type": "execute_result"
    }
   ],
   "source": [
    "np.var(df.NPV), df.NPV.std(ddof=0)**2"
   ]
  },
  {
   "cell_type": "code",
   "execution_count": 5,
   "id": "3db09692",
   "metadata": {},
   "outputs": [
    {
     "name": "stdout",
     "output_type": "stream",
     "text": [
      "459223.3634465273 14.07299025789554\n"
     ]
    }
   ],
   "source": [
    "npv = sorted(df.NPV)\n",
    "print(np.var(npv), np.mean(npv)*0.05)"
   ]
  },
  {
   "cell_type": "code",
   "execution_count": 6,
   "id": "98a351bd",
   "metadata": {},
   "outputs": [
    {
     "data": {
      "text/plain": [
       "0.868488637945507"
      ]
     },
     "execution_count": 6,
     "metadata": {},
     "output_type": "execute_result"
    }
   ],
   "source": [
    "stats.zscore(npv)[int(len(npv) * 0.8)]"
   ]
  },
  {
   "cell_type": "code",
   "execution_count": 7,
   "id": "757461c3",
   "metadata": {},
   "outputs": [
    {
     "data": {
      "text/plain": [
       "0.3633020614068718"
      ]
     },
     "execution_count": 7,
     "metadata": {},
     "output_type": "execute_result"
    }
   ],
   "source": [
    "stats.norm.ppf(1 - .05) - stats.norm.ppf(0.9)"
   ]
  },
  {
   "cell_type": "code",
   "execution_count": 8,
   "id": "cee900d7",
   "metadata": {},
   "outputs": [],
   "source": [
    "n = (2*np.var(npv)*(stats.norm.ppf(1 - .05) - stats.norm.ppf(0.9))**2) / (np.mean(npv)*0.05)**2"
   ]
  },
  {
   "cell_type": "code",
   "execution_count": 9,
   "id": "1dd3e443",
   "metadata": {},
   "outputs": [
    {
     "data": {
      "text/plain": [
       "39714.59281551447"
      ]
     },
     "execution_count": 9,
     "metadata": {},
     "output_type": "execute_result"
    }
   ],
   "source": [
    "(2*np.var(df.NPV)*(stats.norm.ppf(1 - .05) - stats.norm.ppf(0.1))**2) / (np.mean(df.NPV)*0.05)**2"
   ]
  },
  {
   "cell_type": "code",
   "execution_count": 10,
   "id": "78e2a459",
   "metadata": {},
   "outputs": [
    {
     "name": "stdout",
     "output_type": "stream",
     "text": [
      "132311.345801579 10.02907734094594\n"
     ]
    }
   ],
   "source": [
    "metr = df['Расходы']\n",
    "print(np.var(metr), np.mean(metr)*0.05)"
   ]
  },
  {
   "cell_type": "code",
   "execution_count": 11,
   "id": "358b3905",
   "metadata": {},
   "outputs": [
    {
     "data": {
      "text/plain": [
       "27644.02902391896"
      ]
     },
     "execution_count": 11,
     "metadata": {},
     "output_type": "execute_result"
    }
   ],
   "source": [
    "(2*np.var(metr)*(stats.norm.ppf(1 - .05/2) - stats.norm.ppf(0.1))**2) / (np.mean(metr)*0.05)**2"
   ]
  },
  {
   "cell_type": "code",
   "execution_count": 12,
   "id": "a21ce037",
   "metadata": {},
   "outputs": [
    {
     "data": {
      "text/plain": [
       "0          79\n",
       "1          13\n",
       "2          13\n",
       "3          27\n",
       "4        1385\n",
       "         ... \n",
       "22526     224\n",
       "22527      24\n",
       "22528      38\n",
       "22529      53\n",
       "22530     327\n",
       "Name: Расходы, Length: 22531, dtype: int64"
      ]
     },
     "execution_count": 12,
     "metadata": {},
     "output_type": "execute_result"
    }
   ],
   "source": [
    "control = pd.read_csv('Контроль.csv')\n",
    "test = pd.read_csv('Тест.csv')\n",
    "\n",
    "control1 = pd.read_csv('Контроль1.csv')\n",
    "test1 = pd.read_csv('Тест1.csv')\n",
    "\n",
    "control1['Расходы']"
   ]
  },
  {
   "cell_type": "code",
   "execution_count": null,
   "id": "46683e6e",
   "metadata": {},
   "outputs": [],
   "source": []
  },
  {
   "cell_type": "code",
   "execution_count": 13,
   "id": "7c212212",
   "metadata": {},
   "outputs": [
    {
     "data": {
      "text/plain": [
       "-0.033001307328845646"
      ]
     },
     "execution_count": 13,
     "metadata": {},
     "output_type": "execute_result"
    }
   ],
   "source": [
    "(np.mean(test['Расходы']) - np.mean(control['Расходы'])) / np.mean(control['Расходы'])"
   ]
  },
  {
   "cell_type": "code",
   "execution_count": 14,
   "id": "17e05d1a",
   "metadata": {},
   "outputs": [
    {
     "data": {
      "text/plain": [
       "(Ttest_indResult(statistic=-2.1971751915285878, pvalue=0.028012070139204898),\n",
       " Ttest_indResult(statistic=-2.6912817609771387, pvalue=0.007120431603569667))"
      ]
     },
     "execution_count": 14,
     "metadata": {},
     "output_type": "execute_result"
    }
   ],
   "source": [
    "stats.ttest_ind(test['Расходы'], control['Расходы']), stats.ttest_ind(test1['Расходы'], control1['Расходы'])"
   ]
  },
  {
   "cell_type": "code",
   "execution_count": 15,
   "id": "2e0be310",
   "metadata": {},
   "outputs": [
    {
     "name": "stdout",
     "output_type": "stream",
     "text": [
      "[4468481 4269239] [22531 22531] (nan, nan)\n"
     ]
    },
    {
     "name": "stderr",
     "output_type": "stream",
     "text": [
      "C:\\Users\\vasil\\AppData\\Local\\Programs\\Python\\Python310\\lib\\site-packages\\statsmodels\\stats\\proportion.py:866: RuntimeWarning: invalid value encountered in sqrt\n",
      "  std_diff = np.sqrt(var_)\n"
     ]
    }
   ],
   "source": [
    "count = np.array([ sum(control1['Расходы']), sum(test1['Расходы']) ])\n",
    "nobs = np.array([ len(control1['Расходы']), len(test1['Расходы']) ])\n",
    "\n",
    "print(count, nobs, proportions_ztest(count, nobs, value=0.05, alternative='smaller'))"
   ]
  },
  {
   "cell_type": "code",
   "execution_count": null,
   "id": "a5bedcba",
   "metadata": {},
   "outputs": [],
   "source": []
  },
  {
   "cell_type": "code",
   "execution_count": null,
   "id": "e51a5f5a",
   "metadata": {},
   "outputs": [],
   "source": []
  },
  {
   "cell_type": "markdown",
   "id": "f64a582f",
   "metadata": {},
   "source": [
    "## Задание №2"
   ]
  },
  {
   "cell_type": "markdown",
   "id": "fe682761",
   "metadata": {},
   "source": [
    "### Описание данных\n",
    "\n",
    "#### Процесс оформления кредитной карты (КК) устроен следующим образом: <br>\n",
    "\n",
    "<li>человек заходит на сайт и заполняет информацию о себе (в том числе возраст и доход клиента) для получения кредитной карты;\n",
    "<li>человек проходит скоринг (в том числе в рамках которого оценивается вероятность банкротства клиента);\n",
    "<li>создаётся заявка на оформление кредитной карты;\n",
    "<li>человеку выпускается виртуальная карта, а также предлагается наша услуга к этому счёту;\n",
    "<li>с некоторой вероятностью человек утилизирует счёт (начинает им пользоваться);\n",
    "<li>если человек не утилизирует счёт, мы несём некоторые затраты на время оператора и поддержку инфраструктуры;\n",
    "<li>если человек утилизировал карту, мы имеем некоторый заработок (PV) и повышенные расходы.\n"
   ]
  },
  {
   "cell_type": "markdown",
   "id": "6b88688c",
   "metadata": {},
   "source": [
    "### Описание колонок в исторических данных.<br>\n",
    "\n",
    "<li>ID - номер заявки, прошедшей скоринг\n",
    "<li>Возраст - возраст клиента, указанный при оформлении КК\n",
    "<li>Доход клиента - доход клиента, указанный при оформлении КК\n",
    "<li>Вероятность банкротства - оценка вероятности банкротства клиента, полученная с помощью скоринга по параметрам клиента\n",
    "<li>Флаг утилизация счёта - совершение первой расходной операции на счёте КК\n",
    "<li>Расходы - сумма затрат на заявку\n",
    "<li>PV КК - 0 если счёт не утилизирован, иначе = PV кредитной карты\n",
    "<li>PV услуги - 0 если счёт не утилизирован, иначе = PV этой услуги\n",
    "<li>NPV = PV КК + PV услуги - Расходы"
   ]
  },
  {
   "cell_type": "markdown",
   "id": "fb1b7249",
   "metadata": {},
   "source": [
    "#### Контекст\n",
    "Мы провели конкурентный анализ\n",
    "и поняли,\n",
    "что тариф нашей услуги достаточно низкий.\n",
    "Мы хотим попробовать повысить тариф,\n",
    "и надеемся,\n",
    "что снижение конверсии в подключение услуги\n",
    "компенсируется ростом дохода с этой услуги.\n",
    "        \n",
    "#### Тест\n",
    "Мы проводим тест,\n",
    "в рамках которого мы разбиваем весь поток\n",
    "на две части рановероятно,\n",
    "где одной части (контролю) \n",
    "мы будем предлагать старый тариф услуги,\n",
    "а второй части (тесту) - новый тариф услуги.\n",
    "Целью этого теста\n",
    "является увеличение доходности услуги.\n",
    "\n",
    "#### Статистические вводные\n",
    "Проверка однородности выбранного параметра\n",
    "осуществяется с уровнем значимости 2%.\n",
    "\n",
    "Уровень значимости 5%.\n",
    "Мы хотели бы различать 8%-ное\n",
    "изменение целевой метрики\n",
    "с вероятностью 90%."
   ]
  },
  {
   "cell_type": "code",
   "execution_count": 16,
   "id": "341683ba",
   "metadata": {
    "scrolled": true
   },
   "outputs": [
    {
     "data": {
      "text/html": [
       "<div>\n",
       "<style scoped>\n",
       "    .dataframe tbody tr th:only-of-type {\n",
       "        vertical-align: middle;\n",
       "    }\n",
       "\n",
       "    .dataframe tbody tr th {\n",
       "        vertical-align: top;\n",
       "    }\n",
       "\n",
       "    .dataframe thead th {\n",
       "        text-align: right;\n",
       "    }\n",
       "</style>\n",
       "<table border=\"1\" class=\"dataframe\">\n",
       "  <thead>\n",
       "    <tr style=\"text-align: right;\">\n",
       "      <th></th>\n",
       "      <th>ID</th>\n",
       "      <th>Возраст</th>\n",
       "      <th>Доход клиента</th>\n",
       "      <th>Вероятность банкротства</th>\n",
       "      <th>Флаг утилизации счёта</th>\n",
       "      <th>Расходы</th>\n",
       "      <th>PV КК</th>\n",
       "      <th>PV услуги</th>\n",
       "      <th>NPV</th>\n",
       "    </tr>\n",
       "  </thead>\n",
       "  <tbody>\n",
       "    <tr>\n",
       "      <th>0</th>\n",
       "      <td>0</td>\n",
       "      <td>19</td>\n",
       "      <td>21620.835463</td>\n",
       "      <td>0.138061</td>\n",
       "      <td>0</td>\n",
       "      <td>102</td>\n",
       "      <td>0</td>\n",
       "      <td>0</td>\n",
       "      <td>-102</td>\n",
       "    </tr>\n",
       "    <tr>\n",
       "      <th>1</th>\n",
       "      <td>1</td>\n",
       "      <td>27</td>\n",
       "      <td>24897.990863</td>\n",
       "      <td>0.035508</td>\n",
       "      <td>1</td>\n",
       "      <td>409</td>\n",
       "      <td>11686</td>\n",
       "      <td>1754</td>\n",
       "      <td>13031</td>\n",
       "    </tr>\n",
       "    <tr>\n",
       "      <th>2</th>\n",
       "      <td>2</td>\n",
       "      <td>50</td>\n",
       "      <td>23989.526947</td>\n",
       "      <td>0.098793</td>\n",
       "      <td>0</td>\n",
       "      <td>16</td>\n",
       "      <td>0</td>\n",
       "      <td>0</td>\n",
       "      <td>-16</td>\n",
       "    </tr>\n",
       "    <tr>\n",
       "      <th>3</th>\n",
       "      <td>3</td>\n",
       "      <td>18</td>\n",
       "      <td>38442.409756</td>\n",
       "      <td>0.365661</td>\n",
       "      <td>1</td>\n",
       "      <td>788</td>\n",
       "      <td>13738</td>\n",
       "      <td>1578</td>\n",
       "      <td>14528</td>\n",
       "    </tr>\n",
       "    <tr>\n",
       "      <th>4</th>\n",
       "      <td>4</td>\n",
       "      <td>24</td>\n",
       "      <td>21291.521612</td>\n",
       "      <td>0.036909</td>\n",
       "      <td>1</td>\n",
       "      <td>1048</td>\n",
       "      <td>6594</td>\n",
       "      <td>2213</td>\n",
       "      <td>7759</td>\n",
       "    </tr>\n",
       "    <tr>\n",
       "      <th>...</th>\n",
       "      <td>...</td>\n",
       "      <td>...</td>\n",
       "      <td>...</td>\n",
       "      <td>...</td>\n",
       "      <td>...</td>\n",
       "      <td>...</td>\n",
       "      <td>...</td>\n",
       "      <td>...</td>\n",
       "      <td>...</td>\n",
       "    </tr>\n",
       "    <tr>\n",
       "      <th>123250</th>\n",
       "      <td>123250</td>\n",
       "      <td>32</td>\n",
       "      <td>26099.633927</td>\n",
       "      <td>0.110756</td>\n",
       "      <td>0</td>\n",
       "      <td>47</td>\n",
       "      <td>0</td>\n",
       "      <td>0</td>\n",
       "      <td>-47</td>\n",
       "    </tr>\n",
       "    <tr>\n",
       "      <th>123251</th>\n",
       "      <td>123251</td>\n",
       "      <td>20</td>\n",
       "      <td>24579.749275</td>\n",
       "      <td>0.113920</td>\n",
       "      <td>1</td>\n",
       "      <td>594</td>\n",
       "      <td>14268</td>\n",
       "      <td>1672</td>\n",
       "      <td>15346</td>\n",
       "    </tr>\n",
       "    <tr>\n",
       "      <th>123252</th>\n",
       "      <td>123252</td>\n",
       "      <td>36</td>\n",
       "      <td>34062.902531</td>\n",
       "      <td>0.247122</td>\n",
       "      <td>1</td>\n",
       "      <td>77</td>\n",
       "      <td>5950</td>\n",
       "      <td>2017</td>\n",
       "      <td>7890</td>\n",
       "    </tr>\n",
       "    <tr>\n",
       "      <th>123253</th>\n",
       "      <td>123253</td>\n",
       "      <td>67</td>\n",
       "      <td>24609.838522</td>\n",
       "      <td>0.020752</td>\n",
       "      <td>1</td>\n",
       "      <td>279</td>\n",
       "      <td>6278</td>\n",
       "      <td>1847</td>\n",
       "      <td>7846</td>\n",
       "    </tr>\n",
       "    <tr>\n",
       "      <th>123254</th>\n",
       "      <td>123254</td>\n",
       "      <td>36</td>\n",
       "      <td>23378.281337</td>\n",
       "      <td>0.092221</td>\n",
       "      <td>1</td>\n",
       "      <td>186</td>\n",
       "      <td>7093</td>\n",
       "      <td>6109</td>\n",
       "      <td>13016</td>\n",
       "    </tr>\n",
       "  </tbody>\n",
       "</table>\n",
       "<p>123255 rows × 9 columns</p>\n",
       "</div>"
      ],
      "text/plain": [
       "            ID  Возраст  Доход клиента  Вероятность банкротства  \\\n",
       "0            0       19   21620.835463                 0.138061   \n",
       "1            1       27   24897.990863                 0.035508   \n",
       "2            2       50   23989.526947                 0.098793   \n",
       "3            3       18   38442.409756                 0.365661   \n",
       "4            4       24   21291.521612                 0.036909   \n",
       "...        ...      ...            ...                      ...   \n",
       "123250  123250       32   26099.633927                 0.110756   \n",
       "123251  123251       20   24579.749275                 0.113920   \n",
       "123252  123252       36   34062.902531                 0.247122   \n",
       "123253  123253       67   24609.838522                 0.020752   \n",
       "123254  123254       36   23378.281337                 0.092221   \n",
       "\n",
       "        Флаг утилизации счёта  Расходы  PV КК  PV услуги    NPV  \n",
       "0                           0      102      0          0   -102  \n",
       "1                           1      409  11686       1754  13031  \n",
       "2                           0       16      0          0    -16  \n",
       "3                           1      788  13738       1578  14528  \n",
       "4                           1     1048   6594       2213   7759  \n",
       "...                       ...      ...    ...        ...    ...  \n",
       "123250                      0       47      0          0    -47  \n",
       "123251                      1      594  14268       1672  15346  \n",
       "123252                      1       77   5950       2017   7890  \n",
       "123253                      1      279   6278       1847   7846  \n",
       "123254                      1      186   7093       6109  13016  \n",
       "\n",
       "[123255 rows x 9 columns]"
      ]
     },
     "execution_count": 16,
     "metadata": {},
     "output_type": "execute_result"
    }
   ],
   "source": [
    "df2 = pd.read_csv('hist_credit_card.csv')\n",
    "df2"
   ]
  },
  {
   "cell_type": "code",
   "execution_count": 17,
   "id": "352fef1f",
   "metadata": {},
   "outputs": [
    {
     "name": "stdout",
     "output_type": "stream",
     "text": [
      "1841531.021569498 1486.1052533365787 118.8884202669263 8.563847350667974\n"
     ]
    }
   ],
   "source": [
    "print(np.var(df2['PV услуги']),\n",
    "      np.mean(df2['PV услуги']),\n",
    "      np.mean(df2['PV услуги'])*0.08,\n",
    "      (stats.norm.ppf(.95) - stats.norm.ppf(0.1))**2)"
   ]
  },
  {
   "cell_type": "code",
   "execution_count": 18,
   "id": "0cca21aa",
   "metadata": {},
   "outputs": [
    {
     "data": {
      "text/plain": [
       "2231.510010977145"
      ]
     },
     "execution_count": 18,
     "metadata": {},
     "output_type": "execute_result"
    }
   ],
   "source": [
    "(2*np.var(df2['PV услуги'])*(stats.norm.ppf(.95) - stats.norm.ppf(0.1))**2) / (np.mean(df2['PV услуги'])*0.08)**2"
   ]
  },
  {
   "cell_type": "code",
   "execution_count": 19,
   "id": "cc9b586b",
   "metadata": {},
   "outputs": [
    {
     "name": "stdout",
     "output_type": "stream",
     "text": [
      "0.12874195163991214\n",
      "0.29453831012164267\n",
      "0.6465244434376446\n",
      "-0.13912765497669996\n",
      "-0.0019369636685682623\n"
     ]
    }
   ],
   "source": [
    "print(df2['PV услуги'].corr(df2['PV КК']), \n",
    "      df2['PV услуги'].corr(df2['Расходы']),\n",
    "      df2['PV услуги'].corr(df2['Флаг утилизации счёта']),\n",
    "      df2['PV услуги'].corr(df2['Вероятность банкротства']),\n",
    "      df2['PV услуги'].corr(df2['Доход клиента']), sep='\\n')"
   ]
  },
  {
   "cell_type": "code",
   "execution_count": 20,
   "id": "8eb3317f",
   "metadata": {},
   "outputs": [
    {
     "data": {
      "text/html": [
       "<div>\n",
       "<style scoped>\n",
       "    .dataframe tbody tr th:only-of-type {\n",
       "        vertical-align: middle;\n",
       "    }\n",
       "\n",
       "    .dataframe tbody tr th {\n",
       "        vertical-align: top;\n",
       "    }\n",
       "\n",
       "    .dataframe thead th {\n",
       "        text-align: right;\n",
       "    }\n",
       "</style>\n",
       "<table border=\"1\" class=\"dataframe\">\n",
       "  <thead>\n",
       "    <tr style=\"text-align: right;\">\n",
       "      <th></th>\n",
       "      <th>ID</th>\n",
       "      <th>Возраст</th>\n",
       "      <th>Доход клиента</th>\n",
       "      <th>Вероятность банкротства</th>\n",
       "      <th>Флаг утилизации счёта</th>\n",
       "      <th>Расходы</th>\n",
       "      <th>PV КК</th>\n",
       "      <th>PV услуги</th>\n",
       "      <th>NPV</th>\n",
       "    </tr>\n",
       "  </thead>\n",
       "  <tbody>\n",
       "    <tr>\n",
       "      <th>0</th>\n",
       "      <td>0</td>\n",
       "      <td>32</td>\n",
       "      <td>20662.052079</td>\n",
       "      <td>0.203710</td>\n",
       "      <td>0</td>\n",
       "      <td>95</td>\n",
       "      <td>0</td>\n",
       "      <td>0</td>\n",
       "      <td>-95</td>\n",
       "    </tr>\n",
       "    <tr>\n",
       "      <th>1</th>\n",
       "      <td>1</td>\n",
       "      <td>20</td>\n",
       "      <td>25261.597707</td>\n",
       "      <td>0.118478</td>\n",
       "      <td>1</td>\n",
       "      <td>288</td>\n",
       "      <td>6523</td>\n",
       "      <td>2125</td>\n",
       "      <td>8360</td>\n",
       "    </tr>\n",
       "    <tr>\n",
       "      <th>2</th>\n",
       "      <td>2</td>\n",
       "      <td>22</td>\n",
       "      <td>21151.687374</td>\n",
       "      <td>0.315828</td>\n",
       "      <td>1</td>\n",
       "      <td>548</td>\n",
       "      <td>12135</td>\n",
       "      <td>1542</td>\n",
       "      <td>13129</td>\n",
       "    </tr>\n",
       "    <tr>\n",
       "      <th>3</th>\n",
       "      <td>3</td>\n",
       "      <td>57</td>\n",
       "      <td>23726.413105</td>\n",
       "      <td>0.226921</td>\n",
       "      <td>1</td>\n",
       "      <td>149</td>\n",
       "      <td>15027</td>\n",
       "      <td>1531</td>\n",
       "      <td>16409</td>\n",
       "    </tr>\n",
       "    <tr>\n",
       "      <th>4</th>\n",
       "      <td>4</td>\n",
       "      <td>41</td>\n",
       "      <td>95766.375320</td>\n",
       "      <td>0.011428</td>\n",
       "      <td>1</td>\n",
       "      <td>100</td>\n",
       "      <td>11528</td>\n",
       "      <td>1720</td>\n",
       "      <td>13148</td>\n",
       "    </tr>\n",
       "    <tr>\n",
       "      <th>...</th>\n",
       "      <td>...</td>\n",
       "      <td>...</td>\n",
       "      <td>...</td>\n",
       "      <td>...</td>\n",
       "      <td>...</td>\n",
       "      <td>...</td>\n",
       "      <td>...</td>\n",
       "      <td>...</td>\n",
       "      <td>...</td>\n",
       "    </tr>\n",
       "    <tr>\n",
       "      <th>2227</th>\n",
       "      <td>2227</td>\n",
       "      <td>25</td>\n",
       "      <td>21551.731185</td>\n",
       "      <td>0.066283</td>\n",
       "      <td>1</td>\n",
       "      <td>314</td>\n",
       "      <td>5525</td>\n",
       "      <td>1577</td>\n",
       "      <td>6788</td>\n",
       "    </tr>\n",
       "    <tr>\n",
       "      <th>2228</th>\n",
       "      <td>2228</td>\n",
       "      <td>54</td>\n",
       "      <td>21049.901090</td>\n",
       "      <td>0.151012</td>\n",
       "      <td>1</td>\n",
       "      <td>337</td>\n",
       "      <td>5997</td>\n",
       "      <td>2675</td>\n",
       "      <td>8335</td>\n",
       "    </tr>\n",
       "    <tr>\n",
       "      <th>2229</th>\n",
       "      <td>2229</td>\n",
       "      <td>26</td>\n",
       "      <td>42013.239960</td>\n",
       "      <td>0.025473</td>\n",
       "      <td>1</td>\n",
       "      <td>180</td>\n",
       "      <td>8348</td>\n",
       "      <td>2092</td>\n",
       "      <td>10260</td>\n",
       "    </tr>\n",
       "    <tr>\n",
       "      <th>2230</th>\n",
       "      <td>2230</td>\n",
       "      <td>21</td>\n",
       "      <td>23874.521273</td>\n",
       "      <td>0.206314</td>\n",
       "      <td>0</td>\n",
       "      <td>30</td>\n",
       "      <td>0</td>\n",
       "      <td>0</td>\n",
       "      <td>-30</td>\n",
       "    </tr>\n",
       "    <tr>\n",
       "      <th>2231</th>\n",
       "      <td>2231</td>\n",
       "      <td>27</td>\n",
       "      <td>22073.979440</td>\n",
       "      <td>0.031916</td>\n",
       "      <td>0</td>\n",
       "      <td>62</td>\n",
       "      <td>0</td>\n",
       "      <td>0</td>\n",
       "      <td>-62</td>\n",
       "    </tr>\n",
       "  </tbody>\n",
       "</table>\n",
       "<p>2232 rows × 9 columns</p>\n",
       "</div>"
      ],
      "text/plain": [
       "        ID  Возраст  Доход клиента  Вероятность банкротства  \\\n",
       "0        0       32   20662.052079                 0.203710   \n",
       "1        1       20   25261.597707                 0.118478   \n",
       "2        2       22   21151.687374                 0.315828   \n",
       "3        3       57   23726.413105                 0.226921   \n",
       "4        4       41   95766.375320                 0.011428   \n",
       "...    ...      ...            ...                      ...   \n",
       "2227  2227       25   21551.731185                 0.066283   \n",
       "2228  2228       54   21049.901090                 0.151012   \n",
       "2229  2229       26   42013.239960                 0.025473   \n",
       "2230  2230       21   23874.521273                 0.206314   \n",
       "2231  2231       27   22073.979440                 0.031916   \n",
       "\n",
       "      Флаг утилизации счёта  Расходы  PV КК  PV услуги    NPV  \n",
       "0                         0       95      0          0    -95  \n",
       "1                         1      288   6523       2125   8360  \n",
       "2                         1      548  12135       1542  13129  \n",
       "3                         1      149  15027       1531  16409  \n",
       "4                         1      100  11528       1720  13148  \n",
       "...                     ...      ...    ...        ...    ...  \n",
       "2227                      1      314   5525       1577   6788  \n",
       "2228                      1      337   5997       2675   8335  \n",
       "2229                      1      180   8348       2092  10260  \n",
       "2230                      0       30      0          0    -30  \n",
       "2231                      0       62      0          0    -62  \n",
       "\n",
       "[2232 rows x 9 columns]"
      ]
     },
     "execution_count": 20,
     "metadata": {},
     "output_type": "execute_result"
    }
   ],
   "source": [
    "controlc = pd.read_csv('Контроль_кк1.csv')\n",
    "testc = pd.read_csv('Тест_кк1.csv')\n",
    "\n",
    "testc"
   ]
  },
  {
   "cell_type": "code",
   "execution_count": 21,
   "id": "a3e835d8",
   "metadata": {},
   "outputs": [
    {
     "name": "stderr",
     "output_type": "stream",
     "text": [
      "C:\\Users\\vasil\\AppData\\Local\\Programs\\Python\\Python310\\lib\\site-packages\\statsmodels\\stats\\proportion.py:866: RuntimeWarning: invalid value encountered in sqrt\n",
      "  std_diff = np.sqrt(var_)\n"
     ]
    },
    {
     "data": {
      "text/plain": [
       "(nan, nan)"
      ]
     },
     "execution_count": 21,
     "metadata": {},
     "output_type": "execute_result"
    }
   ],
   "source": [
    "countc = np.array([ sum(controlc['PV услуги']), sum(testc['PV услуги']) ])\n",
    "nobsc = np.array([ len(controlc['PV услуги']), len(testc['PV услуги']) ])\n",
    "proportions_ztest(countc, nobsc, value=0.02)"
   ]
  },
  {
   "cell_type": "code",
   "execution_count": 31,
   "id": "9c456853",
   "metadata": {},
   "outputs": [
    {
     "data": {
      "text/plain": [
       "(0.007536001943469271, -2.4306442795304437)"
      ]
     },
     "execution_count": 31,
     "metadata": {},
     "output_type": "execute_result"
    }
   ],
   "source": [
    "def pooled_standard_error(a, b):\n",
    "    std1 = a.std(ddof=0) \n",
    "    std2 = b.std(ddof=0)\n",
    "    x = std1 ** 2 / a.count()\n",
    "    y = std2 ** 2 / b.count()\n",
    "    return (x + y)**(1/2)\n",
    "\n",
    "def z_test(a, b): \n",
    "    return stats.norm.cdf((a.mean() - b.mean()) / pooled_standard_error(a, b))\n",
    "\n",
    "\n",
    "z_test(controlc['PV услуги'], testc['PV услуги']), z_stat(controlc['PV услуги'], testc['PV услуги'])"
   ]
  },
  {
   "cell_type": "code",
   "execution_count": 23,
   "id": "4c73b2cd",
   "metadata": {},
   "outputs": [
    {
     "data": {
      "text/plain": [
       "Ttest_indResult(statistic=-2.430099719362406, pvalue=0.015133845558879396)"
      ]
     },
     "execution_count": 23,
     "metadata": {},
     "output_type": "execute_result"
    }
   ],
   "source": [
    "stats.ttest_ind(controlc['PV услуги'], testc['PV услуги'])"
   ]
  },
  {
   "cell_type": "code",
   "execution_count": 25,
   "id": "947d0ec4",
   "metadata": {},
   "outputs": [
    {
     "name": "stderr",
     "output_type": "stream",
     "text": [
      "C:\\Users\\vasil\\AppData\\Local\\Temp\\ipykernel_9752\\1490863765.py:1: UserWarning: p-value floored: true value smaller than 0.001\n",
      "  stats.anderson_ksamp([controlc['PV услуги'], testc['PV услуги']]), stats.anderson_ksamp([control1['Расходы'], test1['Расходы']])\n",
      "C:\\Users\\vasil\\AppData\\Local\\Temp\\ipykernel_9752\\1490863765.py:1: UserWarning: p-value capped: true value larger than 0.25\n",
      "  stats.anderson_ksamp([controlc['PV услуги'], testc['PV услуги']]), stats.anderson_ksamp([control1['Расходы'], test1['Расходы']])\n"
     ]
    },
    {
     "data": {
      "text/plain": [
       "(Anderson_ksampResult(statistic=34.576298398849694, critical_values=array([0.325, 1.226, 1.961, 2.718, 3.752, 4.592, 6.546]), significance_level=0.001),\n",
       " Anderson_ksampResult(statistic=0.08468334933111596, critical_values=array([0.325, 1.226, 1.961, 2.718, 3.752, 4.592, 6.546]), significance_level=0.25))"
      ]
     },
     "execution_count": 25,
     "metadata": {},
     "output_type": "execute_result"
    }
   ],
   "source": [
    "stats.anderson_ksamp([controlc['PV услуги'], testc['PV услуги']]), stats.anderson_ksamp([control1['Расходы'], test1['Расходы']]) "
   ]
  },
  {
   "cell_type": "code",
   "execution_count": 27,
   "id": "148cf6d8",
   "metadata": {},
   "outputs": [
    {
     "data": {
      "text/html": [
       "<div>\n",
       "<style scoped>\n",
       "    .dataframe tbody tr th:only-of-type {\n",
       "        vertical-align: middle;\n",
       "    }\n",
       "\n",
       "    .dataframe tbody tr th {\n",
       "        vertical-align: top;\n",
       "    }\n",
       "\n",
       "    .dataframe thead th {\n",
       "        text-align: right;\n",
       "    }\n",
       "</style>\n",
       "<table border=\"1\" class=\"dataframe\">\n",
       "  <thead>\n",
       "    <tr style=\"text-align: right;\">\n",
       "      <th></th>\n",
       "      <th>ID</th>\n",
       "      <th>Возраст</th>\n",
       "      <th>Доход клиента</th>\n",
       "      <th>Вероятность банкротства</th>\n",
       "      <th>Флаг утилизации счёта</th>\n",
       "      <th>Расходы</th>\n",
       "      <th>PV КК</th>\n",
       "      <th>PV услуги</th>\n",
       "      <th>NPV</th>\n",
       "    </tr>\n",
       "  </thead>\n",
       "  <tbody>\n",
       "    <tr>\n",
       "      <th>0</th>\n",
       "      <td>0</td>\n",
       "      <td>31</td>\n",
       "      <td>36305.517883</td>\n",
       "      <td>0.015659</td>\n",
       "      <td>1</td>\n",
       "      <td>952</td>\n",
       "      <td>6612</td>\n",
       "      <td>2685</td>\n",
       "      <td>8345</td>\n",
       "    </tr>\n",
       "    <tr>\n",
       "      <th>1</th>\n",
       "      <td>1</td>\n",
       "      <td>21</td>\n",
       "      <td>24064.092773</td>\n",
       "      <td>0.046393</td>\n",
       "      <td>1</td>\n",
       "      <td>2250</td>\n",
       "      <td>6586</td>\n",
       "      <td>1803</td>\n",
       "      <td>6139</td>\n",
       "    </tr>\n",
       "    <tr>\n",
       "      <th>2</th>\n",
       "      <td>2</td>\n",
       "      <td>26</td>\n",
       "      <td>23892.855918</td>\n",
       "      <td>0.054851</td>\n",
       "      <td>0</td>\n",
       "      <td>53</td>\n",
       "      <td>0</td>\n",
       "      <td>0</td>\n",
       "      <td>-53</td>\n",
       "    </tr>\n",
       "    <tr>\n",
       "      <th>3</th>\n",
       "      <td>3</td>\n",
       "      <td>53</td>\n",
       "      <td>21629.641133</td>\n",
       "      <td>0.124277</td>\n",
       "      <td>1</td>\n",
       "      <td>290</td>\n",
       "      <td>9010</td>\n",
       "      <td>2476</td>\n",
       "      <td>11196</td>\n",
       "    </tr>\n",
       "    <tr>\n",
       "      <th>4</th>\n",
       "      <td>4</td>\n",
       "      <td>67</td>\n",
       "      <td>20973.186147</td>\n",
       "      <td>0.113243</td>\n",
       "      <td>1</td>\n",
       "      <td>162</td>\n",
       "      <td>6065</td>\n",
       "      <td>1415</td>\n",
       "      <td>7318</td>\n",
       "    </tr>\n",
       "    <tr>\n",
       "      <th>...</th>\n",
       "      <td>...</td>\n",
       "      <td>...</td>\n",
       "      <td>...</td>\n",
       "      <td>...</td>\n",
       "      <td>...</td>\n",
       "      <td>...</td>\n",
       "      <td>...</td>\n",
       "      <td>...</td>\n",
       "      <td>...</td>\n",
       "    </tr>\n",
       "    <tr>\n",
       "      <th>2245</th>\n",
       "      <td>2245</td>\n",
       "      <td>27</td>\n",
       "      <td>24662.477521</td>\n",
       "      <td>0.093409</td>\n",
       "      <td>1</td>\n",
       "      <td>127</td>\n",
       "      <td>5766</td>\n",
       "      <td>1403</td>\n",
       "      <td>7042</td>\n",
       "    </tr>\n",
       "    <tr>\n",
       "      <th>2246</th>\n",
       "      <td>2246</td>\n",
       "      <td>18</td>\n",
       "      <td>22120.217406</td>\n",
       "      <td>0.061927</td>\n",
       "      <td>1</td>\n",
       "      <td>1030</td>\n",
       "      <td>6474</td>\n",
       "      <td>1524</td>\n",
       "      <td>6968</td>\n",
       "    </tr>\n",
       "    <tr>\n",
       "      <th>2247</th>\n",
       "      <td>2247</td>\n",
       "      <td>33</td>\n",
       "      <td>29339.507951</td>\n",
       "      <td>0.020111</td>\n",
       "      <td>1</td>\n",
       "      <td>758</td>\n",
       "      <td>5357</td>\n",
       "      <td>6842</td>\n",
       "      <td>11441</td>\n",
       "    </tr>\n",
       "    <tr>\n",
       "      <th>2248</th>\n",
       "      <td>2248</td>\n",
       "      <td>34</td>\n",
       "      <td>47760.378296</td>\n",
       "      <td>0.035629</td>\n",
       "      <td>1</td>\n",
       "      <td>152</td>\n",
       "      <td>7637</td>\n",
       "      <td>1534</td>\n",
       "      <td>9019</td>\n",
       "    </tr>\n",
       "    <tr>\n",
       "      <th>2249</th>\n",
       "      <td>2249</td>\n",
       "      <td>67</td>\n",
       "      <td>22048.474011</td>\n",
       "      <td>0.132366</td>\n",
       "      <td>1</td>\n",
       "      <td>1143</td>\n",
       "      <td>6025</td>\n",
       "      <td>1997</td>\n",
       "      <td>6879</td>\n",
       "    </tr>\n",
       "  </tbody>\n",
       "</table>\n",
       "<p>2250 rows × 9 columns</p>\n",
       "</div>"
      ],
      "text/plain": [
       "        ID  Возраст  Доход клиента  Вероятность банкротства  \\\n",
       "0        0       31   36305.517883                 0.015659   \n",
       "1        1       21   24064.092773                 0.046393   \n",
       "2        2       26   23892.855918                 0.054851   \n",
       "3        3       53   21629.641133                 0.124277   \n",
       "4        4       67   20973.186147                 0.113243   \n",
       "...    ...      ...            ...                      ...   \n",
       "2245  2245       27   24662.477521                 0.093409   \n",
       "2246  2246       18   22120.217406                 0.061927   \n",
       "2247  2247       33   29339.507951                 0.020111   \n",
       "2248  2248       34   47760.378296                 0.035629   \n",
       "2249  2249       67   22048.474011                 0.132366   \n",
       "\n",
       "      Флаг утилизации счёта  Расходы  PV КК  PV услуги    NPV  \n",
       "0                         1      952   6612       2685   8345  \n",
       "1                         1     2250   6586       1803   6139  \n",
       "2                         0       53      0          0    -53  \n",
       "3                         1      290   9010       2476  11196  \n",
       "4                         1      162   6065       1415   7318  \n",
       "...                     ...      ...    ...        ...    ...  \n",
       "2245                      1      127   5766       1403   7042  \n",
       "2246                      1     1030   6474       1524   6968  \n",
       "2247                      1      758   5357       6842  11441  \n",
       "2248                      1      152   7637       1534   9019  \n",
       "2249                      1     1143   6025       1997   6879  \n",
       "\n",
       "[2250 rows x 9 columns]"
      ]
     },
     "execution_count": 27,
     "metadata": {},
     "output_type": "execute_result"
    }
   ],
   "source": [
    "cc = pd.read_csv('Контроль_кк2.csv')\n",
    "tc = pd.read_csv('Тест_кк2.csv')\n",
    "tc"
   ]
  },
  {
   "cell_type": "code",
   "execution_count": 32,
   "id": "e7c2763a",
   "metadata": {},
   "outputs": [
    {
     "name": "stderr",
     "output_type": "stream",
     "text": [
      "C:\\Users\\vasil\\AppData\\Local\\Temp\\ipykernel_9752\\670329337.py:1: UserWarning: p-value capped: true value larger than 0.25\n",
      "  stats.anderson_ksamp([cc['PV услуги'], tc['PV услуги']]), z_test(cc['PV услуги'], tc['PV услуги'])\n"
     ]
    },
    {
     "data": {
      "text/plain": [
       "(Anderson_ksampResult(statistic=-1.0327251285450458, critical_values=array([0.325, 1.226, 1.961, 2.718, 3.752, 4.592, 6.546]), significance_level=0.25),\n",
       " 0.7578396177465547)"
      ]
     },
     "execution_count": 32,
     "metadata": {},
     "output_type": "execute_result"
    }
   ],
   "source": [
    "stats.anderson_ksamp([cc['PV услуги'], tc['PV услуги']]), z_test(cc['PV услуги'], tc['PV услуги'])"
   ]
  },
  {
   "cell_type": "code",
   "execution_count": 30,
   "id": "b6b1b011",
   "metadata": {},
   "outputs": [
    {
     "data": {
      "text/plain": [
       "Ttest_indResult(statistic=0.6992146738023493, pvalue=0.48445403551746313)"
      ]
     },
     "execution_count": 30,
     "metadata": {},
     "output_type": "execute_result"
    }
   ],
   "source": [
    "stats.ttest_ind(cc['PV услуги'], tc['PV услуги'])"
   ]
  },
  {
   "cell_type": "code",
   "execution_count": null,
   "id": "7ab2a656",
   "metadata": {},
   "outputs": [],
   "source": []
  }
 ],
 "metadata": {
  "kernelspec": {
   "display_name": "Python 3 (ipykernel)",
   "language": "python",
   "name": "python3"
  },
  "language_info": {
   "codemirror_mode": {
    "name": "ipython",
    "version": 3
   },
   "file_extension": ".py",
   "mimetype": "text/x-python",
   "name": "python",
   "nbconvert_exporter": "python",
   "pygments_lexer": "ipython3",
   "version": "3.10.6"
  }
 },
 "nbformat": 4,
 "nbformat_minor": 5
}
